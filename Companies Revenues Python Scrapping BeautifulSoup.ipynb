{
 "cells": [
  {
   "cell_type": "code",
   "execution_count": 1,
   "id": "cb5ac68f",
   "metadata": {},
   "outputs": [],
   "source": [
    "import pandas as pd\n",
    "from bs4 import BeautifulSoup as BS\n",
    "import requests"
   ]
  },
  {
   "cell_type": "code",
   "execution_count": 2,
   "id": "2ca5cff5",
   "metadata": {},
   "outputs": [],
   "source": [
    "url=\"https://en.wikipedia.org/wiki/List_of_largest_companies_in_the_United_States_by_revenue\""
   ]
  },
  {
   "cell_type": "code",
   "execution_count": 3,
   "id": "1ad1fdd8",
   "metadata": {},
   "outputs": [],
   "source": [
    "page=requests.get(url)"
   ]
  },
  {
   "cell_type": "code",
   "execution_count": 4,
   "id": "1d370965",
   "metadata": {},
   "outputs": [],
   "source": [
    "soup=BS(page.content,'html')"
   ]
  },
  {
   "cell_type": "code",
   "execution_count": 5,
   "id": "8954695f",
   "metadata": {},
   "outputs": [],
   "source": [
    "table=soup.find_all('table')[1]"
   ]
  },
  {
   "cell_type": "code",
   "execution_count": 6,
   "id": "a4187fe7",
   "metadata": {},
   "outputs": [],
   "source": [
    "th=table.find_all('th')"
   ]
  },
  {
   "cell_type": "code",
   "execution_count": 7,
   "id": "336ed0fe",
   "metadata": {},
   "outputs": [],
   "source": [
    "header=[h.text.strip() for h in th]"
   ]
  },
  {
   "cell_type": "code",
   "execution_count": 8,
   "id": "cc3dcd80",
   "metadata": {},
   "outputs": [],
   "source": [
    "df=pd.DataFrame(columns=header)"
   ]
  },
  {
   "cell_type": "code",
   "execution_count": 9,
   "id": "f66b5cfa",
   "metadata": {},
   "outputs": [],
   "source": [
    "tr=table.find_all('tr')"
   ]
  },
  {
   "cell_type": "code",
   "execution_count": 10,
   "id": "f588b66d",
   "metadata": {},
   "outputs": [],
   "source": [
    "all_row_data=[]"
   ]
  },
  {
   "cell_type": "code",
   "execution_count": 11,
   "id": "7348c982",
   "metadata": {},
   "outputs": [],
   "source": [
    "for r in tr:\n",
    "    row_data=r.find_all('td')\n",
    "    individual_row_data=[row.text.strip() for row in row_data]\n",
    "    all_row_data.append(individual_row_data)"
   ]
  },
  {
   "cell_type": "code",
   "execution_count": 12,
   "id": "5952bc4e",
   "metadata": {},
   "outputs": [],
   "source": [
    "all_row_data=all_row_data[1:]"
   ]
  },
  {
   "cell_type": "code",
   "execution_count": 13,
   "id": "ee76f113",
   "metadata": {},
   "outputs": [],
   "source": [
    "for index in range(len(all_row_data)):\n",
    "    df.loc[index]=all_row_data[index]"
   ]
  },
  {
   "cell_type": "code",
   "execution_count": 14,
   "id": "de89bee8",
   "metadata": {},
   "outputs": [
    {
     "data": {
      "text/html": [
       "<div>\n",
       "<style scoped>\n",
       "    .dataframe tbody tr th:only-of-type {\n",
       "        vertical-align: middle;\n",
       "    }\n",
       "\n",
       "    .dataframe tbody tr th {\n",
       "        vertical-align: top;\n",
       "    }\n",
       "\n",
       "    .dataframe thead th {\n",
       "        text-align: right;\n",
       "    }\n",
       "</style>\n",
       "<table border=\"1\" class=\"dataframe\">\n",
       "  <thead>\n",
       "    <tr style=\"text-align: right;\">\n",
       "      <th></th>\n",
       "      <th>Rank</th>\n",
       "      <th>Name</th>\n",
       "      <th>Industry</th>\n",
       "      <th>Revenue (USD millions)</th>\n",
       "      <th>Revenue growth</th>\n",
       "      <th>Employees</th>\n",
       "      <th>Headquarters</th>\n",
       "    </tr>\n",
       "  </thead>\n",
       "  <tbody>\n",
       "    <tr>\n",
       "      <th>0</th>\n",
       "      <td>1</td>\n",
       "      <td>Walmart</td>\n",
       "      <td>Retail</td>\n",
       "      <td>611,289</td>\n",
       "      <td>6.7%</td>\n",
       "      <td>2,100,000</td>\n",
       "      <td>Bentonville, Arkansas</td>\n",
       "    </tr>\n",
       "    <tr>\n",
       "      <th>1</th>\n",
       "      <td>2</td>\n",
       "      <td>Amazon</td>\n",
       "      <td>Retail and cloud computing</td>\n",
       "      <td>513,983</td>\n",
       "      <td>9.4%</td>\n",
       "      <td>1,540,000</td>\n",
       "      <td>Seattle, Washington</td>\n",
       "    </tr>\n",
       "    <tr>\n",
       "      <th>2</th>\n",
       "      <td>3</td>\n",
       "      <td>ExxonMobil</td>\n",
       "      <td>Petroleum industry</td>\n",
       "      <td>413,680</td>\n",
       "      <td>44.8%</td>\n",
       "      <td>62,000</td>\n",
       "      <td>Spring, Texas</td>\n",
       "    </tr>\n",
       "    <tr>\n",
       "      <th>3</th>\n",
       "      <td>4</td>\n",
       "      <td>Apple</td>\n",
       "      <td>Electronics industry</td>\n",
       "      <td>394,328</td>\n",
       "      <td>7.8%</td>\n",
       "      <td>164,000</td>\n",
       "      <td>Cupertino, California</td>\n",
       "    </tr>\n",
       "    <tr>\n",
       "      <th>4</th>\n",
       "      <td>5</td>\n",
       "      <td>UnitedHealth Group</td>\n",
       "      <td>Healthcare</td>\n",
       "      <td>324,162</td>\n",
       "      <td>12.7%</td>\n",
       "      <td>400,000</td>\n",
       "      <td>Minnetonka, Minnesota</td>\n",
       "    </tr>\n",
       "    <tr>\n",
       "      <th>...</th>\n",
       "      <td>...</td>\n",
       "      <td>...</td>\n",
       "      <td>...</td>\n",
       "      <td>...</td>\n",
       "      <td>...</td>\n",
       "      <td>...</td>\n",
       "      <td>...</td>\n",
       "    </tr>\n",
       "    <tr>\n",
       "      <th>95</th>\n",
       "      <td>96</td>\n",
       "      <td>Best Buy</td>\n",
       "      <td>Retail</td>\n",
       "      <td>46,298</td>\n",
       "      <td>10.6%</td>\n",
       "      <td>71,100</td>\n",
       "      <td>Richfield, Minnesota</td>\n",
       "    </tr>\n",
       "    <tr>\n",
       "      <th>96</th>\n",
       "      <td>97</td>\n",
       "      <td>Bristol-Myers Squibb</td>\n",
       "      <td>Pharmaceutical industry</td>\n",
       "      <td>46,159</td>\n",
       "      <td>0.5%</td>\n",
       "      <td>34,300</td>\n",
       "      <td>New York City, New York</td>\n",
       "    </tr>\n",
       "    <tr>\n",
       "      <th>97</th>\n",
       "      <td>98</td>\n",
       "      <td>United Airlines</td>\n",
       "      <td>Airline</td>\n",
       "      <td>44,955</td>\n",
       "      <td>82.5%</td>\n",
       "      <td>92,795</td>\n",
       "      <td>Chicago, Illinois</td>\n",
       "    </tr>\n",
       "    <tr>\n",
       "      <th>98</th>\n",
       "      <td>99</td>\n",
       "      <td>Thermo Fisher Scientific</td>\n",
       "      <td>Laboratory instruments</td>\n",
       "      <td>44,915</td>\n",
       "      <td>14.5%</td>\n",
       "      <td>130,000</td>\n",
       "      <td>Waltham, Massachusetts</td>\n",
       "    </tr>\n",
       "    <tr>\n",
       "      <th>99</th>\n",
       "      <td>100</td>\n",
       "      <td>Qualcomm</td>\n",
       "      <td>Technology</td>\n",
       "      <td>44,200</td>\n",
       "      <td>31.7%</td>\n",
       "      <td>51,000</td>\n",
       "      <td>San Diego, California</td>\n",
       "    </tr>\n",
       "  </tbody>\n",
       "</table>\n",
       "<p>100 rows × 7 columns</p>\n",
       "</div>"
      ],
      "text/plain": [
       "   Rank                      Name                    Industry  \\\n",
       "0     1                   Walmart                      Retail   \n",
       "1     2                    Amazon  Retail and cloud computing   \n",
       "2     3                ExxonMobil          Petroleum industry   \n",
       "3     4                     Apple        Electronics industry   \n",
       "4     5        UnitedHealth Group                  Healthcare   \n",
       "..  ...                       ...                         ...   \n",
       "95   96                  Best Buy                      Retail   \n",
       "96   97      Bristol-Myers Squibb     Pharmaceutical industry   \n",
       "97   98           United Airlines                     Airline   \n",
       "98   99  Thermo Fisher Scientific      Laboratory instruments   \n",
       "99  100                  Qualcomm                  Technology   \n",
       "\n",
       "   Revenue (USD millions) Revenue growth  Employees             Headquarters  \n",
       "0                 611,289           6.7%  2,100,000    Bentonville, Arkansas  \n",
       "1                 513,983           9.4%  1,540,000      Seattle, Washington  \n",
       "2                 413,680          44.8%     62,000            Spring, Texas  \n",
       "3                 394,328           7.8%    164,000    Cupertino, California  \n",
       "4                 324,162          12.7%    400,000    Minnetonka, Minnesota  \n",
       "..                    ...            ...        ...                      ...  \n",
       "95                 46,298          10.6%     71,100     Richfield, Minnesota  \n",
       "96                 46,159           0.5%     34,300  New York City, New York  \n",
       "97                 44,955          82.5%     92,795        Chicago, Illinois  \n",
       "98                 44,915          14.5%    130,000   Waltham, Massachusetts  \n",
       "99                 44,200          31.7%     51,000    San Diego, California  \n",
       "\n",
       "[100 rows x 7 columns]"
      ]
     },
     "execution_count": 14,
     "metadata": {},
     "output_type": "execute_result"
    }
   ],
   "source": [
    "df"
   ]
  },
  {
   "cell_type": "code",
   "execution_count": 15,
   "id": "9cfd94f7",
   "metadata": {},
   "outputs": [],
   "source": [
    "df['Revenue (USD millions)']=df['Revenue (USD millions)'].str.replace(',', '.').astype(float)"
   ]
  },
  {
   "cell_type": "code",
   "execution_count": 16,
   "id": "88289e28",
   "metadata": {},
   "outputs": [],
   "source": [
    "df['Revenue growth']=df['Revenue growth'].str.replace('%', '').astype(float)"
   ]
  },
  {
   "cell_type": "code",
   "execution_count": 17,
   "id": "c6b2dd89",
   "metadata": {},
   "outputs": [
    {
     "data": {
      "text/html": [
       "<div>\n",
       "<style scoped>\n",
       "    .dataframe tbody tr th:only-of-type {\n",
       "        vertical-align: middle;\n",
       "    }\n",
       "\n",
       "    .dataframe tbody tr th {\n",
       "        vertical-align: top;\n",
       "    }\n",
       "\n",
       "    .dataframe thead th {\n",
       "        text-align: right;\n",
       "    }\n",
       "</style>\n",
       "<table border=\"1\" class=\"dataframe\">\n",
       "  <thead>\n",
       "    <tr style=\"text-align: right;\">\n",
       "      <th></th>\n",
       "      <th>Revenue (USD millions)</th>\n",
       "      <th>Name</th>\n",
       "    </tr>\n",
       "    <tr>\n",
       "      <th>Industry</th>\n",
       "      <th></th>\n",
       "      <th></th>\n",
       "    </tr>\n",
       "  </thead>\n",
       "  <tbody>\n",
       "    <tr>\n",
       "      <th>Conglomerate</th>\n",
       "      <td>302.089</td>\n",
       "      <td>RTX Corporation</td>\n",
       "    </tr>\n",
       "    <tr>\n",
       "      <th>Automotive industry</th>\n",
       "      <td>158.057</td>\n",
       "      <td>General Motors</td>\n",
       "    </tr>\n",
       "    <tr>\n",
       "      <th>Beverage</th>\n",
       "      <td>86.859</td>\n",
       "      <td>PepsiCo</td>\n",
       "    </tr>\n",
       "    <tr>\n",
       "      <th>Automotive and energy</th>\n",
       "      <td>81.462</td>\n",
       "      <td>Tesla</td>\n",
       "    </tr>\n",
       "    <tr>\n",
       "      <th>Aerospace and defense</th>\n",
       "      <td>66.608</td>\n",
       "      <td>Lockheed Martin</td>\n",
       "    </tr>\n",
       "    <tr>\n",
       "      <th>Chemical industry</th>\n",
       "      <td>56.902</td>\n",
       "      <td>Dow Chemical Company</td>\n",
       "    </tr>\n",
       "    <tr>\n",
       "      <th>Agriculture manufacturing</th>\n",
       "      <td>52.577</td>\n",
       "      <td>John Deere</td>\n",
       "    </tr>\n",
       "    <tr>\n",
       "      <th>Airline</th>\n",
       "      <td>50.582</td>\n",
       "      <td>United Airlines</td>\n",
       "    </tr>\n",
       "    <tr>\n",
       "      <th>Agriculture cooperative</th>\n",
       "      <td>47.194</td>\n",
       "      <td>CHS</td>\n",
       "    </tr>\n",
       "    <tr>\n",
       "      <th>Apparel</th>\n",
       "      <td>46.710</td>\n",
       "      <td>Nike</td>\n",
       "    </tr>\n",
       "  </tbody>\n",
       "</table>\n",
       "</div>"
      ],
      "text/plain": [
       "                           Revenue (USD millions)                  Name\n",
       "Industry                                                               \n",
       "Conglomerate                              302.089       RTX Corporation\n",
       "Automotive industry                       158.057        General Motors\n",
       "Beverage                                   86.859               PepsiCo\n",
       "Automotive and energy                      81.462                 Tesla\n",
       "Aerospace and defense                      66.608       Lockheed Martin\n",
       "Chemical industry                          56.902  Dow Chemical Company\n",
       "Agriculture manufacturing                  52.577            John Deere\n",
       "Airline                                    50.582       United Airlines\n",
       "Agriculture cooperative                    47.194                   CHS\n",
       "Apparel                                    46.710                  Nike"
      ]
     },
     "execution_count": 17,
     "metadata": {},
     "output_type": "execute_result"
    }
   ],
   "source": [
    "df.groupby('Industry')[[\"Revenue (USD millions)\",'Name']].max()[:10].sort_values(by='Revenue (USD millions)',ascending=False)"
   ]
  },
  {
   "cell_type": "code",
   "execution_count": 18,
   "id": "38c9dc19",
   "metadata": {},
   "outputs": [
    {
     "data": {
      "text/html": [
       "<div>\n",
       "<style scoped>\n",
       "    .dataframe tbody tr th:only-of-type {\n",
       "        vertical-align: middle;\n",
       "    }\n",
       "\n",
       "    .dataframe tbody tr th {\n",
       "        vertical-align: top;\n",
       "    }\n",
       "\n",
       "    .dataframe thead th {\n",
       "        text-align: right;\n",
       "    }\n",
       "</style>\n",
       "<table border=\"1\" class=\"dataframe\">\n",
       "  <thead>\n",
       "    <tr style=\"text-align: right;\">\n",
       "      <th></th>\n",
       "      <th>Revenue (USD millions)</th>\n",
       "      <th>Name</th>\n",
       "    </tr>\n",
       "    <tr>\n",
       "      <th>Industry</th>\n",
       "      <th></th>\n",
       "      <th></th>\n",
       "    </tr>\n",
       "  </thead>\n",
       "  <tbody>\n",
       "    <tr>\n",
       "      <th>Automotive industry</th>\n",
       "      <td>156.735</td>\n",
       "      <td>Ford Motor Company</td>\n",
       "    </tr>\n",
       "    <tr>\n",
       "      <th>Beverage</th>\n",
       "      <td>86.859</td>\n",
       "      <td>PepsiCo</td>\n",
       "    </tr>\n",
       "    <tr>\n",
       "      <th>Automotive and energy</th>\n",
       "      <td>81.462</td>\n",
       "      <td>Tesla</td>\n",
       "    </tr>\n",
       "    <tr>\n",
       "      <th>Conglomerate</th>\n",
       "      <td>67.074</td>\n",
       "      <td>Berkshire Hathaway</td>\n",
       "    </tr>\n",
       "    <tr>\n",
       "      <th>Aerospace and defense</th>\n",
       "      <td>65.984</td>\n",
       "      <td>Boeing</td>\n",
       "    </tr>\n",
       "    <tr>\n",
       "      <th>Chemical industry</th>\n",
       "      <td>56.902</td>\n",
       "      <td>Dow Chemical Company</td>\n",
       "    </tr>\n",
       "    <tr>\n",
       "      <th>Agriculture manufacturing</th>\n",
       "      <td>52.577</td>\n",
       "      <td>John Deere</td>\n",
       "    </tr>\n",
       "    <tr>\n",
       "      <th>Agriculture cooperative</th>\n",
       "      <td>47.194</td>\n",
       "      <td>CHS</td>\n",
       "    </tr>\n",
       "    <tr>\n",
       "      <th>Apparel</th>\n",
       "      <td>46.710</td>\n",
       "      <td>Nike</td>\n",
       "    </tr>\n",
       "    <tr>\n",
       "      <th>Airline</th>\n",
       "      <td>44.955</td>\n",
       "      <td>American Airlines</td>\n",
       "    </tr>\n",
       "  </tbody>\n",
       "</table>\n",
       "</div>"
      ],
      "text/plain": [
       "                           Revenue (USD millions)                  Name\n",
       "Industry                                                               \n",
       "Automotive industry                       156.735    Ford Motor Company\n",
       "Beverage                                   86.859               PepsiCo\n",
       "Automotive and energy                      81.462                 Tesla\n",
       "Conglomerate                               67.074    Berkshire Hathaway\n",
       "Aerospace and defense                      65.984                Boeing\n",
       "Chemical industry                          56.902  Dow Chemical Company\n",
       "Agriculture manufacturing                  52.577            John Deere\n",
       "Agriculture cooperative                    47.194                   CHS\n",
       "Apparel                                    46.710                  Nike\n",
       "Airline                                    44.955     American Airlines"
      ]
     },
     "execution_count": 18,
     "metadata": {},
     "output_type": "execute_result"
    }
   ],
   "source": [
    "df.groupby('Industry')[[\"Revenue (USD millions)\",'Name']].min()[:10].sort_values(by='Revenue (USD millions)',ascending=False)"
   ]
  },
  {
   "cell_type": "code",
   "execution_count": 19,
   "id": "25b9db53",
   "metadata": {},
   "outputs": [
    {
     "data": {
      "text/html": [
       "<div>\n",
       "<style scoped>\n",
       "    .dataframe tbody tr th:only-of-type {\n",
       "        vertical-align: middle;\n",
       "    }\n",
       "\n",
       "    .dataframe tbody tr th {\n",
       "        vertical-align: top;\n",
       "    }\n",
       "\n",
       "    .dataframe thead th {\n",
       "        text-align: right;\n",
       "    }\n",
       "</style>\n",
       "<table border=\"1\" class=\"dataframe\">\n",
       "  <thead>\n",
       "    <tr style=\"text-align: right;\">\n",
       "      <th></th>\n",
       "      <th>Revenue growth</th>\n",
       "      <th>Name</th>\n",
       "    </tr>\n",
       "    <tr>\n",
       "      <th>Industry</th>\n",
       "      <th></th>\n",
       "      <th></th>\n",
       "    </tr>\n",
       "  </thead>\n",
       "  <tbody>\n",
       "    <tr>\n",
       "      <th>Airline</th>\n",
       "      <td>82.5</td>\n",
       "      <td>United Airlines</td>\n",
       "    </tr>\n",
       "    <tr>\n",
       "      <th>Automotive and energy</th>\n",
       "      <td>51.4</td>\n",
       "      <td>Tesla</td>\n",
       "    </tr>\n",
       "    <tr>\n",
       "      <th>Agriculture cooperative</th>\n",
       "      <td>24.3</td>\n",
       "      <td>CHS</td>\n",
       "    </tr>\n",
       "    <tr>\n",
       "      <th>Automotive industry</th>\n",
       "      <td>23.4</td>\n",
       "      <td>General Motors</td>\n",
       "    </tr>\n",
       "    <tr>\n",
       "      <th>Agriculture manufacturing</th>\n",
       "      <td>19.4</td>\n",
       "      <td>John Deere</td>\n",
       "    </tr>\n",
       "    <tr>\n",
       "      <th>Conglomerate</th>\n",
       "      <td>9.4</td>\n",
       "      <td>RTX Corporation</td>\n",
       "    </tr>\n",
       "    <tr>\n",
       "      <th>Beverage</th>\n",
       "      <td>8.7</td>\n",
       "      <td>PepsiCo</td>\n",
       "    </tr>\n",
       "    <tr>\n",
       "      <th>Aerospace and defense</th>\n",
       "      <td>6.9</td>\n",
       "      <td>Lockheed Martin</td>\n",
       "    </tr>\n",
       "    <tr>\n",
       "      <th>Apparel</th>\n",
       "      <td>4.9</td>\n",
       "      <td>Nike</td>\n",
       "    </tr>\n",
       "    <tr>\n",
       "      <th>Chemical industry</th>\n",
       "      <td>3.5</td>\n",
       "      <td>Dow Chemical Company</td>\n",
       "    </tr>\n",
       "  </tbody>\n",
       "</table>\n",
       "</div>"
      ],
      "text/plain": [
       "                           Revenue growth                  Name\n",
       "Industry                                                       \n",
       "Airline                              82.5       United Airlines\n",
       "Automotive and energy                51.4                 Tesla\n",
       "Agriculture cooperative              24.3                   CHS\n",
       "Automotive industry                  23.4        General Motors\n",
       "Agriculture manufacturing            19.4            John Deere\n",
       "Conglomerate                          9.4       RTX Corporation\n",
       "Beverage                              8.7               PepsiCo\n",
       "Aerospace and defense                 6.9       Lockheed Martin\n",
       "Apparel                               4.9                  Nike\n",
       "Chemical industry                     3.5  Dow Chemical Company"
      ]
     },
     "execution_count": 19,
     "metadata": {},
     "output_type": "execute_result"
    }
   ],
   "source": [
    "df.groupby('Industry')[[\"Revenue growth\",'Name']].max()[:10].sort_values(by='Revenue growth',ascending=False)"
   ]
  },
  {
   "cell_type": "code",
   "execution_count": 20,
   "id": "632f95b2",
   "metadata": {},
   "outputs": [
    {
     "data": {
      "text/html": [
       "<div>\n",
       "<style scoped>\n",
       "    .dataframe tbody tr th:only-of-type {\n",
       "        vertical-align: middle;\n",
       "    }\n",
       "\n",
       "    .dataframe tbody tr th {\n",
       "        vertical-align: top;\n",
       "    }\n",
       "\n",
       "    .dataframe thead th {\n",
       "        text-align: right;\n",
       "    }\n",
       "</style>\n",
       "<table border=\"1\" class=\"dataframe\">\n",
       "  <thead>\n",
       "    <tr style=\"text-align: right;\">\n",
       "      <th></th>\n",
       "      <th>Revenue growth</th>\n",
       "      <th>Name</th>\n",
       "    </tr>\n",
       "    <tr>\n",
       "      <th>Industry</th>\n",
       "      <th></th>\n",
       "      <th></th>\n",
       "    </tr>\n",
       "  </thead>\n",
       "  <tbody>\n",
       "    <tr>\n",
       "      <th>Airline</th>\n",
       "      <td>63.9</td>\n",
       "      <td>American Airlines</td>\n",
       "    </tr>\n",
       "    <tr>\n",
       "      <th>Automotive and energy</th>\n",
       "      <td>51.4</td>\n",
       "      <td>Tesla</td>\n",
       "    </tr>\n",
       "    <tr>\n",
       "      <th>Agriculture cooperative</th>\n",
       "      <td>24.3</td>\n",
       "      <td>CHS</td>\n",
       "    </tr>\n",
       "    <tr>\n",
       "      <th>Agriculture manufacturing</th>\n",
       "      <td>19.4</td>\n",
       "      <td>John Deere</td>\n",
       "    </tr>\n",
       "    <tr>\n",
       "      <th>Automotive industry</th>\n",
       "      <td>15.9</td>\n",
       "      <td>Ford Motor Company</td>\n",
       "    </tr>\n",
       "    <tr>\n",
       "      <th>Beverage</th>\n",
       "      <td>8.7</td>\n",
       "      <td>PepsiCo</td>\n",
       "    </tr>\n",
       "    <tr>\n",
       "      <th>Apparel</th>\n",
       "      <td>4.9</td>\n",
       "      <td>Nike</td>\n",
       "    </tr>\n",
       "    <tr>\n",
       "      <th>Chemical industry</th>\n",
       "      <td>3.5</td>\n",
       "      <td>Dow Chemical Company</td>\n",
       "    </tr>\n",
       "    <tr>\n",
       "      <th>Conglomerate</th>\n",
       "      <td>3.2</td>\n",
       "      <td>Berkshire Hathaway</td>\n",
       "    </tr>\n",
       "    <tr>\n",
       "      <th>Aerospace and defense</th>\n",
       "      <td>1.6</td>\n",
       "      <td>Boeing</td>\n",
       "    </tr>\n",
       "  </tbody>\n",
       "</table>\n",
       "</div>"
      ],
      "text/plain": [
       "                           Revenue growth                  Name\n",
       "Industry                                                       \n",
       "Airline                              63.9     American Airlines\n",
       "Automotive and energy                51.4                 Tesla\n",
       "Agriculture cooperative              24.3                   CHS\n",
       "Agriculture manufacturing            19.4            John Deere\n",
       "Automotive industry                  15.9    Ford Motor Company\n",
       "Beverage                              8.7               PepsiCo\n",
       "Apparel                               4.9                  Nike\n",
       "Chemical industry                     3.5  Dow Chemical Company\n",
       "Conglomerate                          3.2    Berkshire Hathaway\n",
       "Aerospace and defense                 1.6                Boeing"
      ]
     },
     "execution_count": 20,
     "metadata": {},
     "output_type": "execute_result"
    }
   ],
   "source": [
    "df.groupby('Industry')[[\"Revenue growth\",'Name']].min()[:10].sort_values(by='Revenue growth',ascending=False)"
   ]
  },
  {
   "cell_type": "code",
   "execution_count": 21,
   "id": "6b9d2783",
   "metadata": {},
   "outputs": [
    {
     "data": {
      "text/plain": [
       "<Axes: xlabel='Name'>"
      ]
     },
     "execution_count": 21,
     "metadata": {},
     "output_type": "execute_result"
    },
    {
     "data": {
      "image/png": "[encoded data removed]",
      "text/plain": [
       "<Figure size 800x300 with 1 Axes>"
      ]
     },
     "metadata": {},
     "output_type": "display_data"
    }
   ],
   "source": [
    "df.sort_values(by='Revenue growth',ascending=False)[:10].plot(rot=45,kind='bar',x='Name',y='Revenue growth',figsize=(8,3),legend=True)"
   ]
  },
  {
   "cell_type": "code",
   "execution_count": 22,
   "id": "ff2c92b0",
   "metadata": {},
   "outputs": [
    {
     "data": {
      "text/plain": [
       "<Axes: xlabel='Name'>"
      ]
     },
     "execution_count": 22,
     "metadata": {},
     "output_type": "execute_result"
    },
    {
     "data": {
      "image/png": "[encoded data removed]",
      "text/plain": [
       "<Figure size 800x300 with 1 Axes>"
      ]
     },
     "metadata": {},
     "output_type": "display_data"
    }
   ],
   "source": [
    "df.sort_values(by='Revenue (USD millions)',ascending=False)[:10].plot(rot=45,kind='bar',x='Name',y='Revenue (USD millions)',figsize=(8,3),legend=True)"
   ]
  },
  {
   "cell_type": "code",
   "execution_count": 23,
   "id": "27ae6659",
   "metadata": {},
   "outputs": [],
   "source": [
    "df.to_csv(r\"C:\\Users\\Basel\\Desktop\\Data Analysis Projects\\Python Webscrapping Beautiful Soup\\Companies Revenues.csv\")"
   ]
  },
  {
   "cell_type": "code",
   "execution_count": null,
   "id": "b19fcc2a",
   "metadata": {},
   "outputs": [],
   "source": []
  },
  {
   "cell_type": "code",
   "execution_count": null,
   "id": "c9ce8cb5",
   "metadata": {},
   "outputs": [],
   "source": []
  },
  {
   "cell_type": "code",
   "execution_count": null,
   "id": "bfce4f35",
   "metadata": {},
   "outputs": [],
   "source": []
  },
  {
   "cell_type": "code",
   "execution_count": null,
   "id": "9d75b5db",
   "metadata": {},
   "outputs": [],
   "source": []
  },
  {
   "cell_type": "code",
   "execution_count": null,
   "id": "7514c75d",
   "metadata": {},
   "outputs": [],
   "source": []
  },
  {
   "cell_type": "code",
   "execution_count": null,
   "id": "c79fec45",
   "metadata": {},
   "outputs": [],
   "source": []
  },
  {
   "cell_type": "code",
   "execution_count": null,
   "id": "a0e08738",
   "metadata": {},
   "outputs": [],
   "source": []
  },
  {
   "cell_type": "code",
   "execution_count": null,
   "id": "4c1a26a2",
   "metadata": {},
   "outputs": [],
   "source": []
  },
  {
   "cell_type": "code",
   "execution_count": null,
   "id": "daacd794",
   "metadata": {},
   "outputs": [],
   "source": []
  },
  {
   "cell_type": "code",
   "execution_count": null,
   "id": "0740a8b5",
   "metadata": {},
   "outputs": [],
   "source": []
  },
  {
   "cell_type": "code",
   "execution_count": null,
   "id": "3b327008",
   "metadata": {},
   "outputs": [],
   "source": []
  },
  {
   "cell_type": "code",
   "execution_count": null,
   "id": "94ef62e8",
   "metadata": {},
   "outputs": [],
   "source": []
  },
  {
   "cell_type": "code",
   "execution_count": null,
   "id": "074b6408",
   "metadata": {},
   "outputs": [],
   "source": []
  },
  {
   "cell_type": "code",
   "execution_count": null,
   "id": "a2bb2bcc",
   "metadata": {},
   "outputs": [],
   "source": []
  },
  {
   "cell_type": "code",
   "execution_count": null,
   "id": "9aaa0427",
   "metadata": {},
   "outputs": [],
   "source": []
  },
  {
   "cell_type": "code",
   "execution_count": null,
   "id": "db02e128",
   "metadata": {},
   "outputs": [],
   "source": []
  },
  {
   "cell_type": "code",
   "execution_count": null,
   "id": "d3f74a17",
   "metadata": {},
   "outputs": [],
   "source": []
  },
  {
   "cell_type": "code",
   "execution_count": null,
   "id": "1328b563",
   "metadata": {},
   "outputs": [],
   "source": []
  },
  {
   "cell_type": "code",
   "execution_count": null,
   "id": "fe0d8fef",
   "metadata": {},
   "outputs": [],
   "source": []
  },
  {
   "cell_type": "code",
   "execution_count": null,
   "id": "4175d336",
   "metadata": {},
   "outputs": [],
   "source": []
  },
  {
   "cell_type": "code",
   "execution_count": null,
   "id": "dacc8e12",
   "metadata": {},
   "outputs": [],
   "source": []
  },
  {
   "cell_type": "code",
   "execution_count": null,
   "id": "e1013906",
   "metadata": {},
   "outputs": [],
   "source": []
  },
  {
   "cell_type": "code",
   "execution_count": null,
   "id": "f49f31e0",
   "metadata": {},
   "outputs": [],
   "source": []
  },
  {
   "cell_type": "code",
   "execution_count": null,
   "id": "38ecdbf6",
   "metadata": {},
   "outputs": [],
   "source": []
  },
  {
   "cell_type": "code",
   "execution_count": null,
   "id": "91535f5c",
   "metadata": {},
   "outputs": [],
   "source": []
  },
  {
   "cell_type": "code",
   "execution_count": null,
   "id": "cbc5dabb",
   "metadata": {},
   "outputs": [],
   "source": []
  },
  {
   "cell_type": "code",
   "execution_count": null,
   "id": "7ce1a2cc",
   "metadata": {},
   "outputs": [],
   "source": []
  },
  {
   "cell_type": "code",
   "execution_count": null,
   "id": "e996c633",
   "metadata": {},
   "outputs": [],
   "source": []
  },
  {
   "cell_type": "code",
   "execution_count": null,
   "id": "291a44d5",
   "metadata": {},
   "outputs": [],
   "source": []
  },
  {
   "cell_type": "code",
   "execution_count": null,
   "id": "34051a55",
   "metadata": {},
   "outputs": [],
   "source": []
  },
  {
   "cell_type": "code",
   "execution_count": null,
   "id": "8b09f6f0",
   "metadata": {},
   "outputs": [],
   "source": []
  },
  {
   "cell_type": "code",
   "execution_count": null,
   "id": "cb65c38e",
   "metadata": {},
   "outputs": [],
   "source": []
  },
  {
   "cell_type": "code",
   "execution_count": null,
   "id": "964c7b41",
   "metadata": {},
   "outputs": [],
   "source": []
  }
 ],
 "metadata": {
  "kernelspec": {
   "display_name": "Python 3 (ipykernel)",
   "language": "python",
   "name": "python3"
  },
  "language_info": {
   "codemirror_mode": {
    "name": "ipython",
    "version": 3
   },
   "file_extension": ".py",
   "mimetype": "text/x-python",
   "name": "python",
   "nbconvert_exporter": "python",
   "pygments_lexer": "ipython3",
   "version": "3.11.5"
  }
 },
 "nbformat": 4,
 "nbformat_minor": 5
}
